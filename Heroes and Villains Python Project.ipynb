{
 "cells": [
  {
   "cell_type": "code",
   "execution_count": 1,
   "metadata": {},
   "outputs": [],
   "source": [
    "# Data Project 2: Working with Marvel Heroes\n",
    "# It’s time to work on some famous characters .We need to work on Marvel Characters data set which is having \"characters_stats\".csv. Following requirements are there which we need to fulfill:\n",
    "\n",
    "# 1. Import required libraries\n",
    "# 2. Read csv\n",
    "# 3. Show first records from csv\n",
    "# 4. Show number of rows and columns\n",
    "# 5. You need to find the values of alignment ,can use value_counts()\n",
    "# 6. Find out only good alignment holders superheroes\n",
    "# 7. Show first five records which you found in point 6\n",
    "# 8. Show top five records having top speed of heroes of good alignment\n",
    "# 9. Show 5 records of super heroes who have maximum power of good alignment\n",
    "# 10. Find out how many super heroes are there with power 100 of good alignment\n",
    "# 11. Shape them what you got in point 10\n",
    "# 12. Show all records from point 10\n",
    "# 13. Retrieve total of first five records of max power of good alignment super heroes\n",
    "# 14. Draw a bar plot of all super heroes who are having good alignment and max power of top five only , take same object of point 13 , show name and total in plot with green bars\n",
    "# 15. Extract villains having bad alignment\n",
    "# 16. Show first five records of point 15\n",
    "# 17. Show top five fastest super villains in terms of super speed\n",
    "# 18. Top five super villains in terms of intelligence\n",
    "# 19. Show who is most dangerous super villain after calculating their total (top 5 only)\n",
    "# 20. Draw a histogram for speed of super heroes having fig size 10,5 , provide speed in histogram for only good alignment super heroes ,title should be \"distribution of speed\" , xlabel should be \"speed\"\n",
    "# 21. Draw a histogram for combat of super villains having fig size 10,5 , provide combat in histogram for only bad alignment super heroes ,title should be \"distribution of combat\" , xlabel should be \"combat\"\n",
    "\n",
    "# *** Explain how you retrieve data with the help of comments in almost each section.\n",
    "\n",
    "# Bonus: Can go beyond the scope and extract some different information on different characters and their properties. Can draw some more plots and histograms."
   ]
  },
  {
   "cell_type": "code",
   "execution_count": 2,
   "metadata": {},
   "outputs": [],
   "source": [
    "# 1. Import required libraries\n",
    "import pandas as pd\n",
    "import matplotlib.pyplot as plt"
   ]
  }
 ],
 "metadata": {
  "kernelspec": {
   "display_name": "Python 3",
   "language": "python",
   "name": "python3"
  },
  "language_info": {
   "codemirror_mode": {
    "name": "ipython",
    "version": 3
   },
   "file_extension": ".py",
   "mimetype": "text/x-python",
   "name": "python",
   "nbconvert_exporter": "python",
   "pygments_lexer": "ipython3",
   "version": "3.7.3"
  }
 },
 "nbformat": 4,
 "nbformat_minor": 2
}
